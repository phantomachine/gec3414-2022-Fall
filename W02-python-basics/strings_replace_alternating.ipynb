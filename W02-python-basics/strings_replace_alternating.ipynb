{
 "cells": [
  {
   "cell_type": "markdown",
   "metadata": {},
   "source": [
    "# Problem\n",
    "\n",
    "A bored Panda's exercise.\n",
    "\n",
    "by [PhantoMachine](https://github.com/phantomachine/)"
   ]
  },
  {
   "cell_type": "markdown",
   "metadata": {},
   "source": [
    "We have a string. Let's call it ``ts``, which is given by \n",
    "\n",
    "``abccccccccccccccjiggywiddit``.\n",
    "\n",
    "In this example, we know *a priori* that there is a substring which has a sequence of repeated characters ``c``.\n",
    "\n",
    "Suppose we want to replace each **odd-numbered** ``c`` with the character ``D`` in the substring\n",
    "\n",
    "``cccccccccccccc``.\n",
    "\n",
    "What would you do?"
   ]
  },
  {
   "cell_type": "markdown",
   "metadata": {},
   "source": [
    "## A custom function"
   ]
  },
  {
   "cell_type": "markdown",
   "metadata": {},
   "source": [
    "Let's define a function:"
   ]
  },
  {
   "cell_type": "code",
   "execution_count": 50,
   "metadata": {},
   "outputs": [],
   "source": [
    "def alternate_switcheroo_odd(string, char_old, char_new):\n",
    "    return ''.join(\n",
    "                    char.replace(char_old, char_new) if i%2 == 0 else char\n",
    "                                         . for i, char in enumerate(string)\n",
    "                   )"
   ]
  },
  {
   "cell_type": "markdown",
   "metadata": {},
   "source": [
    "This function ``alternate_switcheroo_odd`` uses:\n",
    "\n",
    "* string attribute ``join`` as an iterable function,\n",
    "\n",
    "* applies **list comprehension** (a kind of fast for-loop for lists), and\n",
    "\n",
    "* uses **conditional** testing.\n",
    "\n",
    "For the last two tasks, see our later topic on **Flow Control**.\n",
    "\n",
    "Note the function takes a generic input called ``string``, along with an original character ``char_old`` and a new character ``char_new``.\n",
    "\n",
    "Let's try to comprehend what this function does by reading its content from the bottom to the top:\n",
    "\n",
    "* In the last line, the function loops over the input ``string`` using ``python`` enumeration. This gets us\n",
    "\n",
    "    * the index (position) ``i`` \n",
    "\n",
    "    * and the value or element associated with index ``i``, which is given by the character ``char``\n",
    "\n",
    "* The second-last line says the following:\n",
    "\n",
    "    * We intend to ``replace`` the character ``char``'s old value, ``char_old`` with its new one, ``char_new``.\n",
    "\n",
    "    * At and after the ``if`` condition, it says that if index ``i`` is odd (i.e., its remainder in a division by 2 is 0), then do what we intend.\n",
    "\n",
    "* Finally ``join()`` glues back each ``i``-indexed character inside the ``()`` operation of ``join``."
   ]
  },
  {
   "cell_type": "markdown",
   "metadata": {},
   "source": [
    "## Example usage"
   ]
  },
  {
   "cell_type": "code",
   "execution_count": 48,
   "metadata": {},
   "outputs": [],
   "source": [
    "# Original string\n",
    "ts = \"abccccccccccccccjiggywiddit\""
   ]
  },
  {
   "cell_type": "code",
   "execution_count": 51,
   "metadata": {},
   "outputs": [
    {
     "name": "stdout",
     "output_type": "stream",
     "text": [
      "The original string is:  abccccccccccccccjiggywiddit\n",
      "The substring of interest is:  cccccccccccccc\n"
     ]
    }
   ],
   "source": [
    "# Get index of first instance of \"c\" in string ts\n",
    "start = ts.find(\"c\")\n",
    "\n",
    "# Get the number of times \"c\" occurs\n",
    "N = ts.count(\"c\")\n",
    "\n",
    "# So then, index of final instance of \"c\" in ts is\n",
    "end = start + N\n",
    "\n",
    "# Extract the substring of interest\n",
    "tc = ts[start:end]\n",
    "\n",
    "print(\"The original string is: \",ts)\n",
    "print(\"The substring of interest is: \",tc)"
   ]
  },
  {
   "cell_type": "code",
   "execution_count": 52,
   "metadata": {},
   "outputs": [
    {
     "name": "stdout",
     "output_type": "stream",
     "text": [
      "The alternate switching-character string is : DcDcDcDcDcDcDc\n"
     ]
    }
   ],
   "source": [
    "# Apply the custom function\n",
    "tsw = alternate_switcheroo_odd(tc, \"c\", \"D\")\n",
    "print(\"The alternate switching-character string is : \" + tsw)"
   ]
  },
  {
   "cell_type": "code",
   "execution_count": 57,
   "metadata": {},
   "outputs": [
    {
     "name": "stdout",
     "output_type": "stream",
     "text": [
      "Our substituted string is now ...\n",
      "\n",
      "\n",
      "\tabDcDcDcDcDcDcDcjiggywiddit\n"
     ]
    }
   ],
   "source": [
    "# Glue back!\n",
    "print(\"Our substituted string is now ...\\n\\n\")\n",
    "print(\"\\t\" + ts[0:start] + tsw + ts[end::])"
   ]
  },
  {
   "cell_type": "markdown",
   "metadata": {},
   "source": [
    "## Problems?\n",
    "\n",
    "* This code is still not general.\n",
    "\n",
    "* You can come with with an example with multiple substrings featuring repeated ``c`` of varying lengths and break this code!\n",
    "\n",
    "* Can you improve on it further?"
   ]
  },
  {
   "cell_type": "markdown",
   "metadata": {},
   "source": [
    "## A simpler solution by HJY (허재영)?"
   ]
  },
  {
   "cell_type": "markdown",
   "metadata": {},
   "source": [
    "What about this one-liner?"
   ]
  },
  {
   "cell_type": "code",
   "execution_count": 59,
   "metadata": {},
   "outputs": [
    {
     "data": {
      "text/plain": [
       "'abDcDcDcDcDcDcDcjiggywiddit'"
      ]
     },
     "execution_count": 59,
     "metadata": {},
     "output_type": "execute_result"
    }
   ],
   "source": [
    "ts.replace(\"cc\", \"Dc\")"
   ]
  },
  {
   "cell_type": "markdown",
   "metadata": {},
   "source": [
    "Seems to work. What if the sequence of ``c`` has even-numbered occurrences?"
   ]
  },
  {
   "cell_type": "code",
   "execution_count": 82,
   "metadata": {},
   "outputs": [
    {
     "data": {
      "text/plain": [
       "'abDcDcDcDcDcDcDccjiggywiddit'"
      ]
     },
     "execution_count": 82,
     "metadata": {},
     "output_type": "execute_result"
    }
   ],
   "source": [
    "ts1 = \"abcccccccccccccccjiggywiddit\"\n",
    "ts2 = ts1.replace(\"cc\", \"Dc\")\n",
    "ts2"
   ]
  },
  {
   "cell_type": "markdown",
   "metadata": {},
   "source": [
    "Note the last ``c`` should have also been replaced with a ``D``!\n",
    "\n",
    "OK, then do one more line:"
   ]
  },
  {
   "cell_type": "code",
   "execution_count": 83,
   "metadata": {},
   "outputs": [
    {
     "data": {
      "text/plain": [
       "'abDcDcDcDcDcDcDcDjiggywiddit'"
      ]
     },
     "execution_count": 83,
     "metadata": {},
     "output_type": "execute_result"
    }
   ],
   "source": [
    "ts2.replace(\"cj\", \"Dj\")"
   ]
  }
 ],
 "metadata": {
  "kernelspec": {
   "display_name": "base",
   "language": "python",
   "name": "python3"
  },
  "language_info": {
   "codemirror_mode": {
    "name": "ipython",
    "version": 3
   },
   "file_extension": ".py",
   "mimetype": "text/x-python",
   "name": "python",
   "nbconvert_exporter": "python",
   "pygments_lexer": "ipython3",
   "version": "3.7.8"
  },
  "orig_nbformat": 4
 },
 "nbformat": 4,
 "nbformat_minor": 2
}
